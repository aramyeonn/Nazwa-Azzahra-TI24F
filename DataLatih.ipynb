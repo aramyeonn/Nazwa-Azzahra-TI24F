{
 "cells": [
  {
   "cell_type": "code",
   "execution_count": 1,
   "id": "c8b92241-89fb-4e96-b6f9-6af7018afb90",
   "metadata": {},
   "outputs": [
    {
     "data": {
      "text/plain": [
       "<bound method NDFrame.head of     Usia  Transaksi  Label Gender\n",
       "0     54         40      1      L\n",
       "1     56         47      1      L\n",
       "2     53         32      1      P\n",
       "3     19         30      0      L\n",
       "4     47          4      0      P\n",
       "..   ...        ...    ...    ...\n",
       "95    60          1      1      P\n",
       "96    45         23      0      L\n",
       "97    37         18      1      L\n",
       "98    57         30      0      P\n",
       "99    45          4      0      P\n",
       "\n",
       "[100 rows x 4 columns]>"
      ]
     },
     "execution_count": 1,
     "metadata": {},
     "output_type": "execute_result"
    }
   ],
   "source": [
    "import numpy as np\n",
    "import pandas as pd\n",
    "\n",
    "n_data = 100\n",
    "\n",
    "usia = np.random.randint(18,61,size=n_data)\n",
    "transaksi = np.random.randint(0,51,size=n_data)\n",
    "label = np.random.randint(0,2,size=n_data)\n",
    "gender = np.random.choice(['L','P'],size=n_data)\n",
    "\n",
    "df = pd.DataFrame({\n",
    "    'Usia' : usia,\n",
    "    'Transaksi' : transaksi,\n",
    "    'Label' : label,\n",
    "    'Gender' : gender\n",
    "})\n",
    "\n",
    "df.to_csv('DataLatih.csv',index=False)\n",
    "\n",
    "df.head #Mengetahui 5 baris pertama dari isi dataframe"
   ]
  },
  {
   "cell_type": "code",
   "execution_count": null,
   "id": "6218b888-e4ca-4c50-94a3-124bf2b4e47d",
   "metadata": {},
   "outputs": [],
   "source": [
    "import numpy as np\n",
    "import pandas as pd\n",
    "\n",
    "n_data = 100\n",
    "\n",
    "usia = np.random.randint(18,61,size=n_data)\n",
    "transaksi = np.random.randint(0,51,size=n_data)\n",
    "label = np.random.randint(0,2,size=n_data)\n",
    "gender = np.random.choice(['L','P'],size=n_data)\n",
    "\n",
    "df = pd.DataFrame({\n",
    "    'Usia' : usia,\n",
    "    'Transaksi' : transaksi,\n",
    "    'Label' : label,\n",
    "    'Gender' : gender\n",
    "})\n",
    "\n",
    "df.to_csv('DataLatih.csv',index=False)\n",
    "\n",
    "df.head #Mengetahui 5 baris pertama dari isi dataframe"
   ]
  },
  {
   "cell_type": "code",
   "execution_count": null,
   "id": "e0d12b30-5b45-421b-a07e-c03bad89b1e8",
   "metadata": {},
   "outputs": [],
   "source": [
    "minAge = df['Usia'].min()\n",
    "meanAge = df['Usia'].mean()\n",
    "maxAge = df['Usia'].max()\n",
    "\n",
    "print(f\"Usia minimum : {minAge}\")\n",
    "print(f\"Rata-rata Usia : {meanAge}\")\n",
    "print(f\"Usia Maksimum : {maxAge}\")"
   ]
  },
  {
   "cell_type": "code",
   "execution_count": null,
   "id": "2b98495d-84a8-4725-81ce-9bd0ba2fb23f",
   "metadata": {},
   "outputs": [],
   "source": []
  }
 ],
 "metadata": {
  "kernelspec": {
   "display_name": "Python 3 (ipykernel)",
   "language": "python",
   "name": "python3"
  },
  "language_info": {
   "codemirror_mode": {
    "name": "ipython",
    "version": 3
   },
   "file_extension": ".py",
   "mimetype": "text/x-python",
   "name": "python",
   "nbconvert_exporter": "python",
   "pygments_lexer": "ipython3",
   "version": "3.12.7"
  }
 },
 "nbformat": 4,
 "nbformat_minor": 5
}
