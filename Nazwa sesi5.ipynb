{
 "cells": [
  {
   "cell_type": "code",
   "execution_count": 5,
   "id": "51c45dd1-0409-4829-bdd7-dcfd00f0b4e0",
   "metadata": {},
   "outputs": [
    {
     "name": "stdin",
     "output_type": "stream",
     "text": [
      "Masukkan nama anda Ara\n",
      "Masukkan nama kelas TI24F\n",
      "Masukkan fakultas Teknik\n",
      "Masukkan nim 20240040230\n",
      "Masukan semester 2\n"
     ]
    },
    {
     "name": "stdout",
     "output_type": "stream",
     "text": [
      "\n",
      "BIODATA\n",
      " Nama :Ara\n",
      " Kelas :TI24F\n",
      " Fakultas : Teknik\n",
      " NIM :20240040230\n",
      " Semester : 2\n"
     ]
    }
   ],
   "source": [
    "nama = input(\"Masukkan nama anda\")\n",
    "kelas = input(\"Masukkan nama kelas\")\n",
    "fakultas = input(\"Masukkan fakultas\")\n",
    "nim = int(input(\"Masukkan nim\"))\n",
    "semester = int(input(\"Masukan semester\"))\n",
    "\n",
    "print(f\"\\nBIODATA\\n Nama :{nama}\\n Kelas :{kelas}\\n Fakultas : {fakultas}\\n NIM :{nim}\\n Semester : {semester}\")"
   ]
  },
  {
   "cell_type": "code",
   "execution_count": 7,
   "id": "ae96c3d8-253f-44ab-b8a0-a5d7447efad7",
   "metadata": {},
   "outputs": [
    {
     "name": "stdout",
     "output_type": "stream",
     "text": [
      "a. putra nusa\n",
      "b. NIVERSITAS NSA PTRA SKABMI\n",
      "c. SUKABUMI NUSA PUTRA UNIVERSITAS\n",
      "d. UNPS\n",
      "e. TAS SAPU BUMI\n"
     ]
    }
   ],
   "source": [
    "kalimat = \"UNIVERSITAS NUSA PUTRA SUKABUMI\"\n",
    "if kalimat == \"UNIVERSITAS NUSA PUTRA SUKABUMI\":\n",
    "    splitAndLower = kalimat.split(\" \")\n",
    "    splitAndLower = splitAndLower[1:3]\n",
    "    splitAndLower [0],splitAndLower[1] = splitAndLower[1],splitAndLower[0]\n",
    "    splitAndLower = \" \".join(splitAndLower)\n",
    "    splitAndLower = splitAndLower.lower()\n",
    "    #############################################################\n",
    "    replaceU = kalimat.replace(\"U\", \"\")\n",
    "    #############################################################\n",
    "    threeToOne = kalimat.split(\" \")\n",
    "    threeToOne[0],threeToOne[3]  = threeToOne[3],threeToOne[0]\n",
    "    threeToOne = \" \".join(threeToOne)\n",
    "    #############################################################\n",
    "    firstLetter = kalimat.split(\" \")\n",
    "    firstLetter = firstLetter[0][0], firstLetter[1][0], firstLetter[2][0], firstLetter[3][0]\n",
    "    firstLetter = \"\".join(firstLetter)\n",
    "    #############################################################\n",
    "    splice = kalimat[8:11], kalimat[14:19], kalimat[27:31]\n",
    "    splice = splice[0], splice[1].replace(\" \",\"\"), splice[2]\n",
    "    splice = \" \".join(splice)\n",
    "    #############################################################\n",
    "    print(\"a.\",splitAndLower)\n",
    "    print(\"b.\",replaceU)\n",
    "    print(\"c.\",threeToOne)\n",
    "    print(\"d.\",firstLetter)\n",
    "    print(\"e.\",splice)"
   ]
  }
 ],
 "metadata": {
  "kernelspec": {
   "display_name": "Python [conda env:base] *",
   "language": "python",
   "name": "conda-base-py"
  },
  "language_info": {
   "codemirror_mode": {
    "name": "ipython",
    "version": 3
   },
   "file_extension": ".py",
   "mimetype": "text/x-python",
   "name": "python",
   "nbconvert_exporter": "python",
   "pygments_lexer": "ipython3",
   "version": "3.12.7"
  }
 },
 "nbformat": 4,
 "nbformat_minor": 5
}
