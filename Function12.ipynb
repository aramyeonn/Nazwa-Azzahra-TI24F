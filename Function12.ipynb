{
 "cells": [
  {
   "cell_type": "code",
   "execution_count": null,
   "id": "147e585d-d3ec-4115-9f60-2fb0aec68607",
   "metadata": {},
   "outputs": [],
   "source": [
    "#Fungsi tanpa parameter\n",
    "def greeting():\n",
    "    print(\"Hallo, Jijah?\")\n",
    "    print(\"Gimana Hari ini happy ga?\")\n",
    "greeting()\n",
    "greeting()"
   ]
  },
  {
   "cell_type": "code",
   "execution_count": null,
   "id": "b395d42f-fde0-40e1-b828-1287ad321064",
   "metadata": {},
   "outputs": [],
   "source": [
    "#Fungsi dengan return lebih dari 1\n",
    "def aritmatic(num1,num2):\n",
    "    add = num1 + num2\n",
    "    multiply = num1 * num2\n",
    "    return add,multiply\n",
    "\n",
    "tambah, kali = aritmatic(7,10)\n",
    "print(f\"Hasil penjumlahan:{tambah}\")\n",
    "print(f\"Hasil perkalian:{kali}\")"
   ]
  },
  {
   "cell_type": "code",
   "execution_count": null,
   "id": "7dd283c3-3895-4633-94bd-8eadbc523896",
   "metadata": {},
   "outputs": [],
   "source": [
    "#Fungsi dengan nilai default\n",
    "def userRegistration(email,username,password,status=\"Belum aktif\"):\n",
    "    result = \"\"\n",
    "    if (len(username)> 3):\n",
    "        if(len(password)>5):\n",
    "            result += f\"Registration is successfull\\n\"\n",
    "            result += f\"Username:{username}\\n\"\n",
    "            result += f\"Password:{password}\\n\"\n",
    "            result += f\"Email:{email}\\n\"\n",
    "            result += f\"Status:{status}\\n\"\n",
    "            return result\n",
    "        else:\n",
    "            return \"registration failed (Username must be more than 5)\"\n",
    "    else:\n",
    "        return \"registration failed (Username must be more than 3)\"\n",
    "\n",
    "print(userRegistration(\"ajzh23@gmail.com\",\"ajizah\",\"123456\"))\n",
    "print(userRegistration(\"ajzh23@gmail.com\",\"ajizah\",\"123456\",\"Aktif\"))\n",
    "print(userRegistration(\"ajzh23@gmail.com\",\"ajizah\",\"123456\",\"Aktif\"))\n",
    "print(userRegistration(\"ajzh23@gmail.com\",\"ajizah\",\"123456\",\"Aktif\"))"
   ]
  },
  {
   "cell_type": "code",
   "execution_count": null,
   "id": "55ded30c-0a9f-4370-bc1d-11c3cc767f25",
   "metadata": {},
   "outputs": [],
   "source": [
    "#Fungsi dengan nilai default\n",
    "def checkPassword(password):\n",
    "    result = \"\"\n",
    "    if (len(password)<=5):\n",
    "        result = \"registration failed (Username must be more than 5)\\n\"\n",
    "    return result\n",
    "\n",
    "def checkUsername(username):\n",
    "    result=\"\"\n",
    "    if (len(username)<=4):\n",
    "        result = \"registration failed (Username must be more than 3)\\n\"\n",
    "    return result\n",
    "            \n",
    "def userRegistration(email,username,password,status=\"Belum aktif\"):\n",
    "    user = checkUsername(username)\n",
    "    pwd = checkPassword(password)\n",
    "    result = \"\"\n",
    "    if(len(user) > 0):\n",
    "        result +=user\n",
    "        \n",
    "    if(len(pwd) > 0):\n",
    "        result +=pwd\n",
    "\n",
    "    if(len(result)==0):\n",
    "        result += f\"Registration is successfull\\n\"\n",
    "        result += f\"Username:{username}\\n\"\n",
    "        result += f\"Password:{password}\\n\"\n",
    "        result += f\"Email:{email}\\n\"\n",
    "        result += f\"Status:{status}\\n\"\n",
    "    return result\n",
    "\n",
    "print(userRegistration(\"ajzh23@gmail.com\",\"ajizah\",\"1234\",\"Aktif\"))"
   ]
  },
  {
   "cell_type": "code",
   "execution_count": null,
   "id": "32b32aa8-7742-4d36-be4a-0a959e1372e9",
   "metadata": {},
   "outputs": [],
   "source": [
    "import Aritmatika.math as math\n",
    "angka1 = int(input(\"Angka 1: \"))\n",
    "angka2 = int(input(\"Angka 2: \"))\n",
    "\n",
    "r1 = math.add(angka1, angka2)\n",
    "r2 = math.multiply(angka1, angka2)\n",
    "r3 = math.pow(angka1, angka2)\n",
    "\n",
    "print(r1)\n",
    "print(r2)\n",
    "print(r3)"
   ]
  },
  {
   "cell_type": "markdown",
   "id": "fde56b6a-7424-4029-998b-eb4d99c68b24",
   "metadata": {},
   "source": [
    "def reversedWord(word):\n",
    "    word = word.split(\"\")\n",
    "    for i in range(len(word)):\n",
    "        rword = reversed(word[i])\n",
    "        for j in rword:\n",
    "            print(j, end=\"\")\n",
    "        print(\"\", end=\" \")\n",
    "word = input\n",
    "reversedWord(word)"
   ]
  },
  {
   "cell_type": "markdown",
   "id": "d8d54ef7-21f6-4f1e-b99a-c6e1dbcc0761",
   "metadata": {},
   "source": [
    "def reversedWord(word):\n",
    "    word = word.split(\" \")\n",
    "    for i in range(len(word)):\n",
    "        rword = reversed(word[i])\n",
    "        for j in rword:\n",
    "            print(j, end=\"\")\n",
    "        print(\"\", end=\" \")\n",
    "\n",
    "word = input()\n",
    "reversedWord(word)"
   ]
  },
  {
   "cell_type": "code",
   "execution_count": null,
   "id": "24933109-4cc7-4b95-a4f8-9eff704ae8c5",
   "metadata": {},
   "outputs": [],
   "source": [
    "def reversedWord(word):\n",
    "    word = word.split(\" \")\n",
    "    for i in range(len(word)):\n",
    "        rword = reversed(word[i])\n",
    "        for j in rword:\n",
    "            print(j, end=\"\")\n",
    "        print(\"\", end=\" \")\n",
    "\n",
    "word = input()\n",
    "reversedWord(word)"
   ]
  },
  {
   "cell_type": "code",
   "execution_count": null,
   "id": "c4792122-93a3-4bd0-93da-51051b83f6c6",
   "metadata": {},
   "outputs": [],
   "source": [
    "def basedOnOrder(word, number):\n",
    "    word = word.split(\" \")\n",
    "    number = number.split(\" \")\n",
    "    number = list(map(int, number))\n",
    "    for i in number:\n",
    "        print(word[i-1], end=\" \")\n",
    "\n",
    "sentence = input()\n",
    "indeks = input()\n",
    "basedOnOrder(sentence, indeks)"
   ]
  },
  {
   "cell_type": "code",
   "execution_count": null,
   "id": "2814466a-df9d-49c9-8dc4-8bfaace4b695",
   "metadata": {},
   "outputs": [],
   "source": [
    "ef changeVokal(word, choose):\n",
    "    word = list(word)\n",
    "    if choose == 1:\n",
    "        for i in range(len(word)):\n",
    "            if word[i] == \"A\":\n",
    "                word[i] = \"4\"\n",
    "            elif word[i] == \"I\":\n",
    "                word[i] = \"1\"\n",
    "            elif word[i] == \"U\":\n",
    "                word[i] = \"|_|\"\n",
    "            elif word[i] == \"E\":\n",
    "                word[i] = \"3\"\n",
    "            elif word[i] == \"O\":\n",
    "                word[i] = \"0\"\n",
    " \n",
    "    elif choose == 2:\n",
    "        for i in range(len(word)):\n",
    "            if word[i] == \"a\":\n",
    "                word[i] = \"4\"\n",
    "            elif word[i] == \"i\":\n",
    "                word[i] = \"1\"\n",
    "            elif word[i] == \"u\":\n",
    "                word[i] = \"|_|\"\n",
    "            elif word[i] == \"e\":\n",
    "                word[i] = \"3\"\n",
    "            elif word[i] == \"o\":\n",
    "                word[i] = \"0\"\n",
    "    word = \"\".join(word)\n",
    "    print(word)\n",
    "\n",
    "word = input(\"Masukan Kalimat:\")\n",
    "choose = int(input(\"Masukan Pilihan (1-2):\"))\n",
    "changeVokal(word,choose)"
   ]
  }
 ],
 "metadata": {
  "kernelspec": {
   "display_name": "Python 3 (ipykernel)",
   "language": "python",
   "name": "python3"
  },
  "language_info": {
   "codemirror_mode": {
    "name": "ipython",
    "version": 3
   },
   "file_extension": ".py",
   "mimetype": "text/x-python",
   "name": "python",
   "nbconvert_exporter": "python",
   "pygments_lexer": "ipython3",
   "version": "3.12.7"
  }
 },
 "nbformat": 4,
 "nbformat_minor": 5
}
