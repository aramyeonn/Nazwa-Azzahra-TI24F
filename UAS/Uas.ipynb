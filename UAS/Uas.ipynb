{
 "cells": [
  {
   "cell_type": "code",
   "execution_count": null,
   "id": "8ff3d55b-f351-48af-9079-c4dee92008e6",
   "metadata": {},
   "outputs": [],
   "source": [
    "import numpy as np \n",
    "import pandas asa pd \n",
    "import matplotlib.pyplot as plt\n",
    "from sklearn.linear_model import LinearRegression"
   ]
  },
  {
   "cell_type": "code",
   "execution_count": 1,
   "id": "03484b5b-302a-40c2-9886-c3d89bcb7ac5",
   "metadata": {},
   "outputs": [
    {
     "ename": "SyntaxError",
     "evalue": "expected 'except' or 'finally' block (1309425205.py, line 5)",
     "output_type": "error",
     "traceback": [
      "\u001b[1;36m  Cell \u001b[1;32mIn[1], line 5\u001b[1;36m\u001b[0m\n\u001b[1;33m    expect FileNotFoundError:\u001b[0m\n\u001b[1;37m    ^\u001b[0m\n\u001b[1;31mSyntaxError\u001b[0m\u001b[1;31m:\u001b[0m expected 'except' or 'finally' block\n"
     ]
    }
   ],
   "source": [
    "try:\n",
    "    df = pd.read_csv(\"ai_adoption_dataset.csv\")\n",
    "    df = df.head(100) # ambil 100 data awal agar lebih ringan \n",
    "    print(df)\n",
    "expect FileNotFoundError:\n",
    "   print(\"File not Found\")"
   ]
  },
  {
   "cell_type": "code",
   "execution_count": null,
   "id": "9d7a9892-cbc8-4dea-9eb3-be598b1b03f1",
   "metadata": {},
   "outputs": [],
   "source": [
    "x = df['daily_active'].values.reshape(-1, 1)\n",
    "y = df['adoption_rate'].values\n",
    "\n",
    "model = LinearRegression\n",
    "model.fit(X, y)\n",
    "y_pred = model.predict(x)\n",
    "\n",
    "plt.figure(figsize=(10, 6))\n",
    "plt.scatter(X, y, color='blue', alpha=0.6, label='Data Asli')\n",
    "plt.plot(X, y_pred, color='red', linewidth=2, label='Regresi Linear')\n",
    "plt.xlabel('User Aktif Sehari-hari')\n",
    "plt.ylabel('Adoption Rate (%)')\n",
    "plt.title('User Aktif Sehari-hari vs Adoption Rate')\n",
    "plt.legend(loc='upper right') \n",
    "plt.grid(True)\n",
    "plt.tight_layout()\n",
    "plt.show()"
   ]
  }
 ],
 "metadata": {
  "kernelspec": {
   "display_name": "Python 3 (ipykernel)",
   "language": "python",
   "name": "python3"
  },
  "language_info": {
   "codemirror_mode": {
    "name": "ipython",
    "version": 3
   },
   "file_extension": ".py",
   "mimetype": "text/x-python",
   "name": "python",
   "nbconvert_exporter": "python",
   "pygments_lexer": "ipython3",
   "version": "3.12.7"
  }
 },
 "nbformat": 4,
 "nbformat_minor": 5
}
