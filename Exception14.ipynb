{
 "cells": [
  {
   "cell_type": "code",
   "execution_count": 3,
   "id": "e8e59715-f497-4944-826b-bad0ec7001ca",
   "metadata": {},
   "outputs": [
    {
     "name": "stdin",
     "output_type": "stream",
     "text": [
      "Angka 1: 28\n",
      "Angka 2: 3\n",
      "Operator (+,-,*,/): +\n"
     ]
    },
    {
     "name": "stdout",
     "output_type": "stream",
     "text": [
      "Hasil : 31:\n",
      "Hasil : 31\n"
     ]
    }
   ],
   "source": [
    "angka1 = int (input('Angka 1:'))\n",
    "angka2 = int (input('Angka 2:'))\n",
    "operator = input(\"Operator (+,-,*,/):\")\n",
    "hasil =0\n",
    "try:\n",
    "    if operator == \"+\":\n",
    "        hasil = angka1 + angka2\n",
    "    elif operator == \"-\":\n",
    "        hasil = angka1 - angka2\n",
    "    elif operator == \"*\":\n",
    "        hasil = angka1 * angka2\n",
    "    elif operator == \"/\":\n",
    "        hasil = angka1 / angka2\n",
    "    else:\n",
    "        hasil = \"Operator Salah!!\"\n",
    "except ZeroDivisionError:\n",
    "    print(\"Tidak diperbolehkan pembagian dengan 0\")\n",
    "else:\n",
    "    print(f\"Hasil : {hasil}:\")\n",
    "print(f\"Hasil : {hasil}\")\n"
   ]
  },
  {
   "cell_type": "code",
   "execution_count": 4,
   "id": "3b40729d-8b7e-41ce-a1d0-ecc117a9d9a6",
   "metadata": {},
   "outputs": [
    {
     "name": "stdin",
     "output_type": "stream",
     "text": [
      "Angka 1: 4\n",
      "Angka 2: 23\n",
      "Operator (+,-,*,/): *\n"
     ]
    },
    {
     "name": "stdout",
     "output_type": "stream",
     "text": [
      "Hasil : 92\n",
      "Proses perhitungan selesai dikerjakan!!\n"
     ]
    }
   ],
   "source": [
    "hasil =0\n",
    "angka1 = int (input('Angka 1:'))\n",
    "angka2 = int (input('Angka 2:'))\n",
    "operator = input(\"Operator (+,-,*,/):\")\n",
    "try:\n",
    "    if operator == \"+\":\n",
    "        hasil = angka1 + angka2\n",
    "    elif operator == \"-\":\n",
    "        hasil = angka1 - angka2\n",
    "    elif operator == \"*\":\n",
    "        hasil = angka1 * angka2\n",
    "    elif operator == \"/\":\n",
    "        hasil = angka1 / angka2\n",
    "    else:\n",
    "        hasil = \"Operator Salah!!\"\n",
    "except (ZeroDivisionError, ValueError) as err:\n",
    "    print(\"Terdapat Kesalahan:\" , err)\n",
    "else:\n",
    "    print(f\"Hasil : {hasil}\")\n",
    "finally:\n",
    "     print(\"Proses perhitungan selesai dikerjakan!!\")\n"
   ]
  },
  {
   "cell_type": "code",
   "execution_count": 8,
   "id": "9b338562-73fa-44e2-94d1-1d9d2b5bddb5",
   "metadata": {},
   "outputs": [
    {
     "name": "stdin",
     "output_type": "stream",
     "text": [
      "Banyak Data: 3\n",
      "isikan Nilai Siswa: 70\n",
      "isikan Nilai Siswa: 60\n",
      "isikan Nilai Siswa: 2\n",
      "Tampilkan data urutan ke berapa : 1\n"
     ]
    },
    {
     "name": "stdout",
     "output_type": "stream",
     "text": [
      "70\n"
     ]
    }
   ],
   "source": [
    "# IndexError -> LIST\n",
    "\n",
    "jumlahData = int(input(\"Banyak Data:\"))\n",
    "data = []\n",
    "for i in range (0,jumlahData):\n",
    "    nilai = int(input(\"isikan Nilai Siswa:\"))\n",
    "    data.append(nilai)\n",
    "\n",
    "showData = int(input(\"Tampilkan data urutan ke berapa :\"))\n",
    "print(data[showData-1])"
   ]
  },
  {
   "cell_type": "code",
   "execution_count": 7,
   "id": "f30f0193-6d93-422a-bc9c-15d60deabd36",
   "metadata": {},
   "outputs": [
    {
     "name": "stdin",
     "output_type": "stream",
     "text": [
      "Banyak Data: 2\n",
      "isikan Nilai Siswa: 90\n",
      "isikan Nilai Siswa: 80\n",
      "Tampilkan data urutan ke berapa : 1\n"
     ]
    },
    {
     "name": "stdout",
     "output_type": "stream",
     "text": [
      "90\n",
      "Load Data selesai!!\n"
     ]
    }
   ],
   "source": [
    "#IndexError -> LIST\n",
    "data = []\n",
    "try:\n",
    "    jumlahData = int(input(\"Banyak Data:\"))\n",
    "    \n",
    "    for i in range (0,jumlahData):\n",
    "        nilai = int(input(\"isikan Nilai Siswa:\"))\n",
    "        data.append(nilai)\n",
    "        \n",
    "    showData = int(input(\"Tampilkan data urutan ke berapa :\"))\n",
    "    hasil = data[showData-1]\n",
    "except ValueError:\n",
    "    print(\"input harus angka!!\")\n",
    "except IndexError:\n",
    "    print(\"Data tidak tersedia!!\")\n",
    "else:\n",
    "    print(hasil)\n",
    "finally:\n",
    "    print(\"Load Data selesai!!\")"
   ]
  },
  {
   "cell_type": "code",
   "execution_count": 9,
   "id": "dccacff9-3f26-47c2-ab9a-ac27f84fc0e5",
   "metadata": {},
   "outputs": [
    {
     "name": "stdin",
     "output_type": "stream",
     "text": [
      "Isikan Umur: 18\n"
     ]
    },
    {
     "name": "stdout",
     "output_type": "stream",
     "text": [
      "Umur anda valid\n",
      "Cek Umur selesai dikerjakan!!\n"
     ]
    }
   ],
   "source": [
    "#Custom Exception\n",
    "# Tiket film, umur harus >= 17\n",
    "class UmurException(Exception):\n",
    "    pass\n",
    "def checkUmur(umur):\n",
    "    if umur < 17:\n",
    "        raise UmurException(\"Umur harus lebih dari 16\")\n",
    "\n",
    "try:\n",
    "    umur = int(input(\"Isikan Umur:\"))\n",
    "    checkUmur(umur)\n",
    "except (ValueError, UmurException) as err:\n",
    "    print(\"tejadi Kesalahan\",err)\n",
    "else:\n",
    "    print(\"Umur anda valid\")\n",
    "finally:\n",
    "    print(\"Cek Umur selesai dikerjakan!!\")\n",
    "    "
   ]
  },
  {
   "cell_type": "code",
   "execution_count": 10,
   "id": "a2bf6ffb-1730-4982-b888-e0ee3cded599",
   "metadata": {},
   "outputs": [
    {
     "name": "stdout",
     "output_type": "stream",
     "text": [
      "Kesalahan mengakses nama atribut\n"
     ]
    }
   ],
   "source": [
    "#Data dari database -> dict\n",
    "#Ada Kemungkinan data tidak terambil semuanya\n",
    "\n",
    "try:\n",
    "    dataSiswa = {\n",
    "        \"nim\" : '2401003',\n",
    "        \"nama\" : \"Suki\",\n",
    "        \"alamat\" : \"Cisaat\"\n",
    "    }\n",
    "    print(dataSisw[\"kelas\"])\n",
    "except KeyError:\n",
    "    print(\"Data tidak tersedia\")\n",
    "except  NameError:\n",
    "    print(\"Kesalahan mengakses nama atribut\")\n",
    "          "
   ]
  },
  {
   "cell_type": "code",
   "execution_count": 11,
   "id": "11ca4488-8789-4cc6-a44e-8bfb90e101fe",
   "metadata": {},
   "outputs": [
    {
     "name": "stdout",
     "output_type": "stream",
     "text": [
      "Usia,Transaksi,Label,Gender\n",
      "54,40,1,L\n",
      "56,47,1,L\n",
      "53,32,1,P\n",
      "19,30,0,L\n",
      "47,4,0,P\n",
      "44,28,0,L\n",
      "46,27,0,P\n",
      "26,15,1,P\n",
      "56,11,1,P\n",
      "24,2,0,P\n",
      "40,16,1,P\n",
      "51,42,0,L\n",
      "18,8,0,L\n",
      "32,35,0,L\n",
      "52,16,0,P\n",
      "60,33,0,L\n",
      "21,2,1,P\n",
      "46,49,0,L\n",
      "53,2,1,P\n",
      "45,27,1,L\n",
      "59,23,0,L\n",
      "19,14,0,P\n",
      "40,32,1,L\n",
      "32,42,1,L\n",
      "35,47,0,P\n",
      "38,36,1,P\n",
      "18,30,1,L\n",
      "31,20,1,L\n",
      "28,33,1,L\n",
      "23,27,1,P\n",
      "38,36,0,P\n",
      "37,46,1,L\n",
      "32,48,1,L\n",
      "38,18,1,P\n",
      "25,16,1,P\n",
      "43,2,0,P\n",
      "46,32,1,P\n",
      "42,45,0,P\n",
      "37,3,0,P\n",
      "30,1,0,L\n",
      "27,28,1,L\n",
      "28,23,1,L\n",
      "19,4,1,P\n",
      "30,32,0,P\n",
      "53,12,0,P\n",
      "25,23,1,P\n",
      "46,45,0,P\n",
      "49,33,1,L\n",
      "30,44,0,L\n",
      "48,27,0,L\n",
      "46,50,0,L\n",
      "21,35,1,P\n",
      "36,1,1,P\n",
      "18,23,1,P\n",
      "28,47,0,P\n",
      "50,36,0,P\n",
      "59,20,1,P\n",
      "40,19,1,L\n",
      "59,25,1,P\n",
      "32,11,0,P\n",
      "40,28,1,P\n",
      "41,37,0,L\n",
      "25,0,1,P\n",
      "50,2,1,L\n",
      "24,19,1,P\n",
      "57,10,1,L\n",
      "25,42,1,L\n",
      "20,27,0,L\n",
      "37,10,0,P\n",
      "20,21,0,P\n",
      "24,6,0,P\n",
      "49,11,0,P\n",
      "56,3,1,P\n",
      "39,22,1,P\n",
      "26,2,1,P\n",
      "57,37,0,L\n",
      "25,47,1,L\n",
      "29,16,0,L\n",
      "21,14,0,P\n",
      "33,19,0,P\n",
      "21,15,1,P\n",
      "27,4,1,P\n",
      "59,26,0,L\n",
      "45,10,0,P\n",
      "18,19,0,P\n",
      "27,42,1,P\n",
      "59,16,0,P\n",
      "40,19,1,L\n",
      "43,35,1,P\n",
      "28,1,1,L\n",
      "45,35,1,L\n",
      "24,44,1,L\n",
      "35,39,0,L\n",
      "55,50,0,P\n",
      "37,3,0,L\n",
      "60,1,1,P\n",
      "45,23,0,L\n",
      "37,18,1,L\n",
      "57,30,0,P\n",
      "45,4,0,P\n",
      "\n"
     ]
    }
   ],
   "source": [
    "#File handling -> mengakses file plain text\n",
    "#open (\"Nama_File\",\"mode\")\n",
    "#mode -> r - read, w - write, a - append\n",
    "\n",
    "try:\n",
    "    file = open(\"DataLatih.csv\",'r')\n",
    "    konten = file.read()\n",
    "except FileNotFoundError:\n",
    "    print(\"File Tidak Ditemukan!!\")\n",
    "else:\n",
    "    print(konten)\n",
    "finally:\n",
    "    file.close()"
   ]
  },
  {
   "cell_type": "code",
   "execution_count": null,
   "id": "a2f9bcba-1748-43dd-b124-2ba9da344b40",
   "metadata": {},
   "outputs": [],
   "source": []
  }
 ],
 "metadata": {
  "kernelspec": {
   "display_name": "Python 3 (ipykernel)",
   "language": "python",
   "name": "python3"
  },
  "language_info": {
   "codemirror_mode": {
    "name": "ipython",
    "version": 3
   },
   "file_extension": ".py",
   "mimetype": "text/x-python",
   "name": "python",
   "nbconvert_exporter": "python",
   "pygments_lexer": "ipython3",
   "version": "3.12.7"
  }
 },
 "nbformat": 4,
 "nbformat_minor": 5
}
