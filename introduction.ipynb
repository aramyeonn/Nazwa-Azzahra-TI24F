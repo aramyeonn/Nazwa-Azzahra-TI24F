{
 "cells": [
  {
   "cell_type": "markdown",
   "id": "dafd13b0",
   "metadata": {},
   "source": [
    "<img scr=\"https://th.bing.com/th/id/OIP.EJvq45ECr2Wl5-OnwGyIhAHaHa?w=250&h=250&c=8&rs=1&qlt=90&o=6&pid=3.1&rm=2\" width=\"200\">  "
   ]
  },
  {
   "cell_type": "markdown",
   "id": "7a1335ad",
   "metadata": {},
   "source": [
    "<center>\n",
    "    <img src=\"https://th.bing.com/th/id/OIP.EJvq45ECr2Wl5-OnwGyIhAHaHa?w=250&h=250&c=8&rs=1&qlt=90&o=6&pid=3.1&rm=2\" width=\"200\">\n",
    "</center><br>\n",
    "Jenis Cell di <b>Jupyter Notebooks</b> ada 2\n",
    "<ol>\n",
    "    <li>Mark Down (M)</li>\n",
    "    <li>Code (Y)</li>\n",
    "    </ol>\n",
    "    <hr>"
   ]
  },
  {
   "cell_type": "markdown",
   "id": "e2342182",
   "metadata": {},
   "source": [
    "Cara menambah Cell ada 2:\n",
    "<ul>\n",
    "    <li>Above (A)</li>\n",
    "    <li>Below (B)</li>\n",
    "    </ul> \n",
    "<table>\n",
    "    <tr>\n",
    "        <th>Perintah</th>\n",
    "        <th>Keterangan</th>\n",
    "    </tr>\n",
    "    <tr>\n",
    "        <td>ctrl + enter</td>\n",
    "        <td>Running dan fokus di Cell</td>\n",
    "    </tr>\n",
    "    <tr>\n",
    "        <td>Shift + enter</td>\n",
    "        <td>Running dan fokus di Cell brerikutnya</td>\n",
    "    </tr>\n",
    "</table>"
   ]
  },
  {
   "cell_type": "code",
   "execution_count": 3,
   "id": "c6bcc6df",
   "metadata": {},
   "outputs": [
    {
     "name": "stdout",
     "output_type": "stream",
     "text": [
      "Python is very easy\n",
      "5\n",
      "sekarang hari jum'at\n",
      "Deklarasikan variabel \"A\"\n",
      "15\n",
      "10\n"
     ]
    },
    {
     "data": {
      "text/plain": [
       "105"
      ]
     },
     "execution_count": 3,
     "metadata": {},
     "output_type": "execute_result"
    }
   ],
   "source": [
    "print(\"Python is very easy\")\n",
    "data = 5\n",
    "data2 = \"10\"\n",
    "print(data)\n",
    "print(\"sekarang hari jum'at\")\n",
    "print('Deklarasikan variabel \"A\"')\n",
    "print( data + int(data2))\n",
    "print(data2)\n",
    "data2\n",
    "data + 100"
   ]
  },
  {
   "cell_type": "code",
   "execution_count": null,
   "id": "a415ed8a",
   "metadata": {},
   "outputs": [],
   "source": []
  }
 ],
 "metadata": {
  "kernelspec": {
   "display_name": "Python 3 (ipykernel)",
   "language": "python",
   "name": "python3"
  },
  "language_info": {
   "codemirror_mode": {
    "name": "ipython",
    "version": 3
   },
   "file_extension": ".py",
   "mimetype": "text/x-python",
   "name": "python",
   "nbconvert_exporter": "python",
   "pygments_lexer": "ipython3",
   "version": "3.9.12"
  }
 },
 "nbformat": 4,
 "nbformat_minor": 5
}
