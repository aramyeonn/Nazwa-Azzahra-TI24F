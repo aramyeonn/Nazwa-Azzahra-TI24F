{
 "cells": [
  {
   "cell_type": "code",
   "execution_count": 1,
   "id": "1eb8db35-1661-4824-b9c8-ff325d172f74",
   "metadata": {},
   "outputs": [
    {
     "name": "stdout",
     "output_type": "stream",
     "text": [
      "Nama Buah :Apple\n",
      "Nama Buah :Banana\n",
      "Nama Buah :Avocado\n",
      "Nama Buah :Pineaple\n",
      "Nama Buah :Guava\n"
     ]
    }
   ],
   "source": [
    "fruits = [\"Apple\",\"Banana\",\"Avocado\",\"Pineaple\",\"Guava\"]\n",
    "for fruit in fruits:\n",
    "    print(f\"Nama Buah :{fruit}\")"
   ]
  },
  {
   "cell_type": "code",
   "execution_count": null,
   "id": "41347b30-043c-40d7-91d1-e83f88aedf47",
   "metadata": {},
   "outputs": [],
   "source": [
    "#Contoh:\n",
    "#Kelas TI24F punya data nilai pemograman python 80,100,90,70,70,50,40\n",
    "#Carilah nilai rata-rata nilai pemograman python di kels TI24F\n",
    "\n",
    "nilaiPython = [80,100,90,70,70,50,40]\n",
    "total = 0\n",
    "for nilai in nilaiPython:\n",
    "    total+= nilai\n",
    "\n",
    "rata2 = total / len(nilaiPython)\n",
    "print(f\"Nilai Rata-rata : {rata2}\")"
   ]
  },
  {
   "cell_type": "code",
   "execution_count": null,
   "id": "ce01b2c9-e4d9-4a8c-920a-46d1a257f17d",
   "metadata": {},
   "outputs": [],
   "source": [
    "#Enumerate\n",
    "month = [\"Jan\",\"Feb\",\"Mar\",\"Apr\",\"May\",\"Jun\",\"Jul\",\"Aug\",\"Sep\"]\n",
    "for i, m in enumerate(month):\n",
    "    print(f\"{i} : {m}\")"
   ]
  },
  {
   "cell_type": "code",
   "execution_count": null,
   "id": "48908805-1e4d-40ec-bb5d-abc7e8bfe925",
   "metadata": {},
   "outputs": [],
   "source": [
    "Kampus = input(\"Isikan Nama Kampus:\")\n",
    "listVokal = [\"a\",\"i\",\"u\",\"e\",\"o\"]\n",
    "total = 0\n",
    "isVokal =\"\"\n",
    "for karakter in Kampus:\n",
    "    if karakter in listVokal:\n",
    "        total +=1\n",
    "        isVokal = \"Huruf Vokal\"\n",
    "    else:\n",
    "        isVokal = \"Bukan Huruf Vokal\"\n",
    "    print(f\"{karakter} adalah {isVokal}|Total:{total}\") #berapa banyak jumlah huruf vokal 'a,i,u,e,o'\n",
    "print(f\"Jumlah Total huruf Vokal : {total}\")"
   ]
  },
  {
   "cell_type": "code",
   "execution_count": 3,
   "id": "2ae7d664-1af0-4c32-a5ef-5f7a895b6d6e",
   "metadata": {},
   "outputs": [
    {
     "name": "stdout",
     "output_type": "stream",
     "text": [
      "[1, 4, 9, 16, 25]\n"
     ]
    }
   ],
   "source": [
    "#Looping List Comprehension\n",
    "data = [1,2,3,4,5]\n",
    "pangkat = [x**2 for x in data]\n",
    "print(pangkat)"
   ]
  },
  {
   "cell_type": "code",
   "execution_count": 2,
   "id": "6991f196-2ff3-449d-8866-18d5f26506a7",
   "metadata": {},
   "outputs": [
    {
     "name": "stdout",
     "output_type": "stream",
     "text": [
      "Nilai j : 5\n",
      "Nilai j : 6\n",
      "Nilai j : 7\n",
      "Nilai j : 8\n",
      "Nilai j : 9\n"
     ]
    }
   ],
   "source": [
    "#Range\n",
    "for j in range(5,10):\n",
    "    print(f\"Nilai j : {j}\")"
   ]
  },
  {
   "cell_type": "code",
   "execution_count": null,
   "id": "0a6e7e37-2de2-4e01-98a5-f126d9cb9c00",
   "metadata": {},
   "outputs": [],
   "source": [
    "#Cek bilangan prima atau bukan prima\n",
    "number = int(input(\"Isikan Bilangan:\"))\n",
    "faktor = 0\n",
    "for i in range (1,number+1):\n",
    "    if number % i == 0:\n",
    "       faktor +=1\n",
    "if faktor==2:\n",
    "    print(f\"{number} adalah Bilangan Prima\")\n",
    "else:\n",
    "    print(f\"{number} adalah Bukan Prima\")"
   ]
  },
  {
   "cell_type": "code",
   "execution_count": null,
   "id": "5454894c-e717-4648-b7c1-70bb0628dbe3",
   "metadata": {},
   "outputs": [],
   "source": [
    "#Faktorial\n",
    "# 3! = 3 * 2 * 1 = 6\n",
    "# 4! = 4 * 3 * 2 * 1 = 24\n",
    "total = 1\n",
    "number = int(input(\"Isikan Bilangan:\"))\n",
    "for i in range(1,number+1):\n",
    "    total *= i\n",
    "print(f\"{number}! = {total}\")\n"
   ]
  },
  {
   "cell_type": "code",
   "execution_count": null,
   "id": "1124e94b-1ba9-401a-9b86-cd320fc7c938",
   "metadata": {},
   "outputs": [],
   "source": [
    "# 1 -2 3 -4 5 -6 7 -8 9 -10\n",
    "number = int(input(\"Isikan Bilangan:\"))\n",
    "sign = 1\n",
    "for i in range(1,number+1):\n",
    "    result = sign * i \n",
    "    print(f\"{result} \", end='')\n",
    "    sign *= -1"
   ]
  },
  {
   "cell_type": "code",
   "execution_count": null,
   "id": "0d6137f0-1c9a-4fd6-ad4b-934c5f841787",
   "metadata": {},
   "outputs": [],
   "source": [
    "kursiBioskop = [\"L\",\"P\",\"P\",\"L\",\"L\",\"P\",\"L\"]\n",
    "\n",
    "#Hitung jumlah penonton Laki-laki\n",
    "#Hitung Jumlah penonton Perempuan \n",
    "\n",
    "totalLaki = 0\n",
    "for jenis in kursiBioskop:\n",
    "    if jenis==\"L\":\n",
    "        totalLaki +=1\n",
    "print(f\"Jumlah Penonton Laki-laki:{totalLaki}\")\n",
    "print(f\"Jumlah Penonton perempuan:{len(kursiBioskop)-totalLaki}\")\n"
   ]
  },
  {
   "cell_type": "code",
   "execution_count": null,
   "id": "8c7d327c-7308-4f9f-b05f-18b8b6d091a5",
   "metadata": {},
   "outputs": [],
   "source": [
    "kursi = [\"L\",\"P\",\"P\",\"L\",\"L\",\"P\",\"L\"]\n",
    "couple = 0\n",
    "for i in range(len(kursi)-1):\n",
    "    if kursi[i] != kursi [i+1]:\n",
    "        couple+=1\n",
    "print(f\"Jumlah Couple:{couple}\")"
   ]
  },
  {
   "cell_type": "code",
   "execution_count": null,
   "id": "e2cec350-5a0a-46c1-ab88-3d4c0b9e09f5",
   "metadata": {},
   "outputs": [],
   "source": [
    "data = {\n",
    "    \"fname\" : \"Suki\",\n",
    "    \"1name\" : \"Wawa\"\n",
    "}\n",
    "for key,value in data.items():\n",
    "    print(f\"(key) : {value}\")"
   ]
  }
 ],
 "metadata": {
  "kernelspec": {
   "display_name": "Python 3 (ipykernel)",
   "language": "python",
   "name": "python3"
  },
  "language_info": {
   "codemirror_mode": {
    "name": "ipython",
    "version": 3
   },
   "file_extension": ".py",
   "mimetype": "text/x-python",
   "name": "python",
   "nbconvert_exporter": "python",
   "pygments_lexer": "ipython3",
   "version": "3.12.7"
  }
 },
 "nbformat": 4,
 "nbformat_minor": 5
}
