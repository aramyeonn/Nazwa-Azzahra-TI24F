{
 "cells": [
  {
   "cell_type": "markdown",
   "id": "74b31cf5",
   "metadata": {},
   "source": [
    "<h1>split</h1>"
   ]
  },
  {
   "cell_type": "code",
   "execution_count": 2,
   "id": "561f3f5c",
   "metadata": {},
   "outputs": [
    {
     "name": "stdout",
     "output_type": "stream",
     "text": [
      "['satu', 'dua', 'tiga empat lima']\n"
     ]
    }
   ],
   "source": [
    "text = \"satu dua tiga empat lima\"\n",
    "hasil = text.split(\" \", 2)\n",
    "print(hasil)  # Output: ['satu', 'dua', 'tiga empat lima']\n"
   ]
  },
  {
   "cell_type": "markdown",
   "id": "643c87e8",
   "metadata": {},
   "source": [
    "<h1>reverse</h1>"
   ]
  },
  {
   "cell_type": "code",
   "execution_count": 5,
   "id": "8d001f40",
   "metadata": {},
   "outputs": [
    {
     "name": "stdout",
     "output_type": "stream",
     "text": [
      "!dlroW ,olleH\n"
     ]
    }
   ],
   "source": [
    "text = \"Hello, World!\"\n",
    "reversed_text = ''.join(reversed(text))\n",
    "print(reversed_text)  # Output: \"!dlroW ,olleH\""
   ]
  },
  {
   "cell_type": "markdown",
   "id": "4262037c",
   "metadata": {},
   "source": [
    "<h1>join</h1>"
   ]
  },
  {
   "cell_type": "code",
   "execution_count": 6,
   "id": "295020df",
   "metadata": {},
   "outputs": [
    {
     "name": "stdout",
     "output_type": "stream",
     "text": [
      "!dlroW ,olleH\n"
     ]
    }
   ],
   "source": [
    "reversed_text = ''.join(reversed(text))\n",
    "print(reversed_text)  # Output: \"!dlroW ,olleH\"\n"
   ]
  },
  {
   "cell_type": "markdown",
   "id": "ff4d2e7d",
   "metadata": {},
   "source": [
    "<h1>replace</h1>"
   ]
  },
  {
   "cell_type": "code",
   "execution_count": 7,
   "id": "db0b15bd",
   "metadata": {},
   "outputs": [
    {
     "name": "stdout",
     "output_type": "stream",
     "text": [
      "Hello World!\n"
     ]
    }
   ],
   "source": [
    "text = \"Hello, World!\"\n",
    "new_text = text.replace(\",\", \"\")  # Menghapus koma\n",
    "print(new_text)  # Output: \"Hello World!\"\n"
   ]
  },
  {
   "cell_type": "markdown",
   "id": "1972fe69",
   "metadata": {},
   "source": [
    "<h1>lower</h1>"
   ]
  },
  {
   "cell_type": "code",
   "execution_count": 8,
   "id": "5ffc1c4b",
   "metadata": {},
   "outputs": [
    {
     "name": "stdout",
     "output_type": "stream",
     "text": [
      "['apple', 'banana', 'cherry']\n"
     ]
    }
   ],
   "source": [
    "words = [\"Apple\", \"BANANA\", \"Cherry\"]\n",
    "lower_words = [word.lower() for word in words]\n",
    "print(lower_words)  # Output: ['apple', 'banana', 'cherry']\n"
   ]
  },
  {
   "cell_type": "markdown",
   "id": "961d064d",
   "metadata": {},
   "source": [
    "<h1>count</h1>"
   ]
  },
  {
   "cell_type": "code",
   "execution_count": 9,
   "id": "a22b487f",
   "metadata": {},
   "outputs": [
    {
     "name": "stdout",
     "output_type": "stream",
     "text": [
      "jeruk jeruk mangga apel\n"
     ]
    }
   ],
   "source": [
    "text = \"apel apel mangga apel\"\n",
    "new_text = text.replace(\"apel\", \"jeruk\", 2)  # Hanya mengganti 2 \"apel\" pertama\n",
    "print(new_text)  # Output: \"jeruk jeruk mangga apel\"\n"
   ]
  },
  {
   "cell_type": "markdown",
   "id": "62f2d500",
   "metadata": {},
   "source": [
    "<h1>re.findall</h1>"
   ]
  },
  {
   "cell_type": "code",
   "execution_count": 10,
   "id": "e5cb15a6",
   "metadata": {},
   "outputs": [
    {
     "name": "stdout",
     "output_type": "stream",
     "text": [
      "['3', '5', '10']\n"
     ]
    }
   ],
   "source": [
    "import re\n",
    "text = \"Saya punya 3 apel, 5 jeruk, dan 10 mangga.\"\n",
    "numbers = re.findall(r'\\d+', text)  # Mencari semua angka\n",
    "print(numbers)  # Output: ['3', '5', '10'\n"
   ]
  }
 ],
 "metadata": {
  "kernelspec": {
   "display_name": "Python 3 (ipykernel)",
   "language": "python",
   "name": "python3"
  },
  "language_info": {
   "codemirror_mode": {
    "name": "ipython",
    "version": 3
   },
   "file_extension": ".py",
   "mimetype": "text/x-python",
   "name": "python",
   "nbconvert_exporter": "python",
   "pygments_lexer": "ipython3",
   "version": "3.9.12"
  }
 },
 "nbformat": 4,
 "nbformat_minor": 5
}
