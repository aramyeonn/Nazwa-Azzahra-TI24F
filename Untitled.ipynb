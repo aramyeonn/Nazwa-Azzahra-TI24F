{
 "cells": [
  {
   "cell_type": "markdown",
   "id": "3a5f2e1b",
   "metadata": {},
   "source": [
    "<B>Operator Aritmatika </b>"
   ]
  },
  {
   "cell_type": "code",
   "execution_count": 2,
   "id": "f071f8db",
   "metadata": {},
   "outputs": [
    {
     "name": "stdout",
     "output_type": "stream",
     "text": [
      "Isikan Nilai X:50\n",
      "Isikan Nilai Y:3\n",
      "Hasil Penjumlahan 50 + 3 = 53\n",
      "Hasil Pengurangan 50 - 3 = 47\n",
      "Hasil Perkalian 50 * 3 = 150\n",
      "Hasil Pembagian 50 / 3 = 16.666666666666668\n",
      "Hasil Modulus 50 % 3 = 2\n",
      "Hasil Pangkat 50 ^ 3 = 125000\n",
      "Hasil Pembagian Bulat 3 // 3 = 16\n"
     ]
    }
   ],
   "source": [
    "x = input(\"Isikan Nilai X:\")\n",
    "y = input(\"Isikan Nilai Y:\")\n",
    "x = int(x)\n",
    "y = int(y)\n",
    "hasilTambah = x + y\n",
    "hasilKurang = x - y\n",
    "hasilKali = x * y\n",
    "hasilBagi = x / y\n",
    "hasilMod = x % y\n",
    "hasilPangkat = x ** y\n",
    "hasilDiv = x // y\n",
    "\n",
    "print(\"Hasil Penjumlahan\",x,\"+\",y,\"=\",hasilTambah)\n",
    "print(\"Hasil Pengurangan\",x,\"-\",y,\"=\",hasilKurang)\n",
    "print(\"Hasil Perkalian\",x,\"*\",y,\"=\",hasilKali)\n",
    "print(\"Hasil Pembagian\",x,\"/\",y,\"=\",hasilBagi)\n",
    "print(\"Hasil Modulus\",x,\"%\",y,\"=\",hasilMod)\n",
    "print(\"Hasil Pangkat\",x,\"^\",y,\"=\",hasilPangkat)\n",
    "print(\"Hasil Pembagian Bulat\",y,\"//\",y,\"=\",hasilDiv)"
   ]
  },
  {
   "cell_type": "markdown",
   "id": "746631a5",
   "metadata": {},
   "source": [
    "<B>Operator Penugasan</b>"
   ]
  },
  {
   "cell_type": "code",
   "execution_count": 21,
   "id": "d2ed6499",
   "metadata": {},
   "outputs": [
    {
     "name": "stdout",
     "output_type": "stream",
     "text": [
      "Isikan Nilai Awal :5\n",
      "Nilai Awal : 5\n",
      "Setelah ditambah 3= 8\n",
      "Kemudian dikurang dengan 5= 3\n",
      "Selanjutnya dikali dengan 3= 9\n",
      "Proses terakhir dibagi dengan 2= 4.5\n"
     ]
    }
   ],
   "source": [
    "nilaiAwal = int(input(\"Isikan Nilai Awal :\"))\n",
    "\n",
    "print(\"Nilai Awal :\",nilaiAwal)\n",
    "nilaiAwal+=3\n",
    "print(\"Setelah ditambah 3=\" ,nilaiAwal)\n",
    "nilaiAwal-=5\n",
    "print(\"Kemudian dikurang dengan 5=\" ,nilaiAwal)\n",
    "nilaiAwal*=3\n",
    "print(\"Selanjutnya dikali dengan 3=\" ,nilaiAwal)\n",
    "nilaiAwal/=2\n",
    "print(\"Proses terakhir dibagi dengan 2=\" ,nilaiAwal)\n"
   ]
  },
  {
   "cell_type": "markdown",
   "id": "74763b84",
   "metadata": {},
   "source": [
    "<B>Operator Perbandingan</b>"
   ]
  },
  {
   "cell_type": "code",
   "execution_count": 7,
   "id": "aa66313d",
   "metadata": {},
   "outputs": [
    {
     "name": "stdout",
     "output_type": "stream",
     "text": [
      "Isikan Nilai fVal :30\n",
      "Isikan Nilai sVal :12\n",
      "30 = 12 False\n",
      "30 != 12 True\n",
      "30 > 12 True\n",
      "30 < 12 False\n",
      "30 <= 12 True\n",
      "30 >= 12 True\n"
     ]
    }
   ],
   "source": [
    "fVal = int(input(\"Isikan Nilai fVal :\"))\n",
    "sVal = int(input(\"Isikan Nilai sVal :\"))\n",
    "\n",
    "print(fVal,\"=\",sVal,fVal==sVal)\n",
    "print(fVal,\"!=\",sVal,fVal!=sVal)\n",
    "print(fVal,\">\",sVal,fVal>sVal)\n",
    "print(fVal,\"<\",sVal,fVal<sVal)\n",
    "print(fVal,\"<=\",sVal,fVal>=sVal)\n",
    "print(fVal,\">=\",sVal,fVal>=sVal)"
   ]
  },
  {
   "cell_type": "markdown",
   "id": "45c875e9",
   "metadata": {},
   "source": [
    "<B>Operator Logika</b>"
   ]
  },
  {
   "cell_type": "code",
   "execution_count": 12,
   "id": "d7d6b0a7",
   "metadata": {},
   "outputs": [
    {
     "name": "stdout",
     "output_type": "stream",
     "text": [
      "Isikan Bilangan 1:10\n",
      "Isikan Bilangan 2:3\n",
      "Bilangan 1: 10\n",
      "Bilangan 2: 3\n",
      "Apakah Bil. 1 mod 2 = 0 dan Bilangan 2 lebih besar dari 3? False\n",
      "Apakah Bil. 1 mod 2 = 0 dan Bilangan 2 lebih besar dari 3? True\n",
      "Apakah Bil. 1 mod 2 = 0 dan Bilangan 2 lebih besar dari 3? False\n"
     ]
    }
   ],
   "source": [
    "num_1 = int(input(\"Isikan Bilangan 1:\"))\n",
    "num_2 = int(input(\"Isikan Bilangan 2:\"))\n",
    "\n",
    "print(\"Bilangan 1:\",num_1)\n",
    "print(\"Bilangan 2:\",num_2)\n",
    "\n",
    "print(\"Apakah Bil. 1 mod 2 = 0 dan Bilangan 2 lebih besar dari 3?\" ,num_1 % 2==0 and num_2 > 3)\n",
    "print(\"Apakah Bil. 1 mod 2 = 0 dan Bilangan 2 lebih besar dari 3?\" ,num_1 % 2==0 or num_2 > 3)\n",
    "print(\"Apakah Bil. 1 mod 2 = 0 dan Bilangan 2 lebih besar dari 3?\" ,not(num_1 % 2==0 or num_2 > 3))"
   ]
  },
  {
   "cell_type": "markdown",
   "id": "0b3f3bc0",
   "metadata": {},
   "source": [
    "<B>Operator Identitas</b>"
   ]
  },
  {
   "cell_type": "code",
   "execution_count": 15,
   "id": "0af530f1",
   "metadata": {},
   "outputs": [
    {
     "name": "stdout",
     "output_type": "stream",
     "text": [
      "True\n",
      "False\n",
      "True\n",
      "Memory address dari vall 1955467300144\n",
      "Memory address dari va2 1955454282320\n",
      "Memory address dari val3 1955454282320\n"
     ]
    },
    {
     "name": "stderr",
     "output_type": "stream",
     "text": [
      "<>:1: SyntaxWarning: \"is\" with a literal. Did you mean \"==\"?\n",
      "<>:1: SyntaxWarning: \"is\" with a literal. Did you mean \"==\"?\n",
      "C:\\Users\\LAB KOMPUTER 2 19\\AppData\\Local\\Temp\\ipykernel_11944\\2646512966.py:1: SyntaxWarning: \"is\" with a literal. Did you mean \"==\"?\n",
      "  print(\"Andi\" is \"Andi\")\n"
     ]
    }
   ],
   "source": [
    "print(\"Andi\" is \"Andi\")\n",
    "val1 = \"10\"\n",
    "val2 = 10\n",
    "val3 = val2\n",
    "print(val1 is val2)\n",
    "print(val1 is not val2)\n",
    "\n",
    "print(\"Memory address dari vall\",id(val1))\n",
    "print(\"Memory address dari va2\",id(val2))\n",
    "print(\"Memory address dari val3\",id(val3))"
   ]
  },
  {
   "cell_type": "markdown",
   "id": "e5f4eeb3",
   "metadata": {},
   "source": [
    "<B>Operator Keanggotaan</b>"
   ]
  },
  {
   "cell_type": "code",
   "execution_count": 19,
   "id": "fc98d52e",
   "metadata": {},
   "outputs": [
    {
     "name": "stdout",
     "output_type": "stream",
     "text": [
      "False\n",
      "True\n"
     ]
    }
   ],
   "source": [
    "find = [\"Suki\"]\n",
    "daftarMahasiswa = [\"Giselle\",\"Eunha\",\"Taehyung\",\"Sehun\"]\n",
    "\n",
    "print(find in daftarMahasiswa)\n",
    "print(find not in daftarMahasiswa)"
   ]
  },
  {
   "cell_type": "markdown",
   "id": "fda90877",
   "metadata": {},
   "source": [
    "<B>Operator Bitwise</b>"
   ]
  },
  {
   "cell_type": "code",
   "execution_count": 20,
   "id": "7598cb27",
   "metadata": {},
   "outputs": [
    {
     "name": "stdout",
     "output_type": "stream",
     "text": [
      "Isikan Nilai 1 :20\n",
      "Isikan Nilai 2 :7\n",
      "4\n",
      "23\n",
      "19\n",
      "2560\n",
      "0\n"
     ]
    }
   ],
   "source": [
    "desimal1 = int(input(\"Isikan Nilai 1 :\"))\n",
    "desimal2 = int(input(\"Isikan Nilai 2 :\"))\n",
    "\n",
    "print(desimal1 & desimal2)\n",
    "print(desimal1 | desimal2)\n",
    "print(desimal1 ^ desimal2)\n",
    "print(desimal1 << desimal2)\n",
    "print(desimal1 >> desimal2)"
   ]
  },
  {
   "cell_type": "code",
   "execution_count": null,
   "id": "5a7c92a0",
   "metadata": {},
   "outputs": [],
   "source": []
  }
 ],
 "metadata": {
  "kernelspec": {
   "display_name": "Python 3 (ipykernel)",
   "language": "python",
   "name": "python3"
  },
  "language_info": {
   "codemirror_mode": {
    "name": "ipython",
    "version": 3
   },
   "file_extension": ".py",
   "mimetype": "text/x-python",
   "name": "python",
   "nbconvert_exporter": "python",
   "pygments_lexer": "ipython3",
   "version": "3.9.12"
  }
 },
 "nbformat": 4,
 "nbformat_minor": 5
}
