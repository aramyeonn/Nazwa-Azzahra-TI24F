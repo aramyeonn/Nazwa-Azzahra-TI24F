{
 "cells": [
  {
   "cell_type": "code",
   "execution_count": 4,
   "id": "66c28dd3-eb69-400b-9d06-53c264113492",
   "metadata": {},
   "outputs": [
    {
     "name": "stdout",
     "output_type": "stream",
     "text": [
      "Nama Buah :Apple\n",
      "Nama Buah :Banana\n",
      "Nama Buah :Avocado\n",
      "Nama Buah :Pineaple\n",
      "Nama Buah :Guava\n"
     ]
    }
   ],
   "source": [
    "fruits = [\"Apple\",\"Banana\",\"Avocado\",\"Pineaple\",\"Guava\"]\n",
    "for fruit in fruits:\n",
    "    print(f\"Nama Buah :{fruit}\")\n"
   ]
  },
  {
   "cell_type": "code",
   "execution_count": 7,
   "id": "cb3f8236-fd44-498b-a3b9-5b1b557a1f20",
   "metadata": {},
   "outputs": [
    {
     "name": "stdout",
     "output_type": "stream",
     "text": [
      "Nilai Rata-rata : 71.42857142857143\n"
     ]
    }
   ],
   "source": [
    "#Contoh:\n",
    "#Kelas TI24F punya data nilai pemograman python 80,100,90,70,70,50,40\n",
    "#Carilah nilai rata-rata nilai pemograman python di kels TI24F\n",
    "\n",
    "nilaiPython = [80,100,90,70,70,50,40]\n",
    "total = 0\n",
    "for nilai in nilaiPython:\n",
    "    total+= nilai\n",
    "\n",
    "rata2 = total / len(nilaiPython)\n",
    "print(f\"Nilai Rata-rata : {rata2}\")\n"
   ]
  },
  {
   "cell_type": "code",
   "execution_count": 13,
   "id": "196d90b2-cb27-422f-8f2c-d8699d1f4b33",
   "metadata": {},
   "outputs": [
    {
     "name": "stdout",
     "output_type": "stream",
     "text": [
      "0 : Jan\n",
      "1 : Feb\n",
      "2 : Mar\n",
      "3 : Apr\n",
      "4 : May\n",
      "5 : Jun\n",
      "6 : Jul\n",
      "7 : Aug\n",
      "8 : Sep\n"
     ]
    }
   ],
   "source": [
    "#Enumerate\n",
    "month = [\"Jan\",\"Feb\",\"Mar\",\"Apr\",\"May\",\"Jun\",\"Jul\",\"Aug\",\"Sep\"]\n",
    "for i, m in enumerate(month):\n",
    "    print(f\"{i} : {m}\")\n",
    "\n"
   ]
  },
  {
   "cell_type": "code",
   "execution_count": 23,
   "id": "e15afc10-c982-40fa-8d40-98d618b0b3ea",
   "metadata": {
    "scrolled": true
   },
   "outputs": [
    {
     "name": "stdin",
     "output_type": "stream",
     "text": [
      "Isikan Nama Kampus: Universitas Indonesia\n"
     ]
    },
    {
     "name": "stdout",
     "output_type": "stream",
     "text": [
      "U adalah Bukan Huruf Vokal|Total:0\n",
      "n adalah Bukan Huruf Vokal|Total:0\n",
      "i adalah Huruf Vokal|Total:1\n",
      "v adalah Bukan Huruf Vokal|Total:1\n",
      "e adalah Huruf Vokal|Total:2\n",
      "r adalah Bukan Huruf Vokal|Total:2\n",
      "s adalah Bukan Huruf Vokal|Total:2\n",
      "i adalah Huruf Vokal|Total:3\n",
      "t adalah Bukan Huruf Vokal|Total:3\n",
      "a adalah Huruf Vokal|Total:4\n",
      "s adalah Bukan Huruf Vokal|Total:4\n",
      "  adalah Bukan Huruf Vokal|Total:4\n",
      "I adalah Bukan Huruf Vokal|Total:4\n",
      "n adalah Bukan Huruf Vokal|Total:4\n",
      "d adalah Bukan Huruf Vokal|Total:4\n",
      "o adalah Huruf Vokal|Total:5\n",
      "n adalah Bukan Huruf Vokal|Total:5\n",
      "e adalah Huruf Vokal|Total:6\n",
      "s adalah Bukan Huruf Vokal|Total:6\n",
      "i adalah Huruf Vokal|Total:7\n",
      "a adalah Huruf Vokal|Total:8\n",
      "Jumlah Total huruf Vokal : 8\n"
     ]
    }
   ],
   "source": [
    "Kampus = input(\"Isikan Nama Kampus:\")\n",
    "listVokal = [\"a\",\"i\",\"u\",\"e\",\"o\"]\n",
    "total = 0\n",
    "isVokal =\"\"\n",
    "for karakter in Kampus:\n",
    "    if karakter in listVokal:\n",
    "        total +=1\n",
    "        isVokal = \"Huruf Vokal\"\n",
    "    else:\n",
    "        isVokal = \"Bukan Huruf Vokal\"\n",
    "    print(f\"{karakter} adalah {isVokal}|Total:{total}\") #berapa banyak jumlah huruf vokal 'a,i,u,e,o'\n",
    "print(f\"Jumlah Total huruf Vokal : {total}\")"
   ]
  },
  {
   "cell_type": "code",
   "execution_count": null,
   "id": "ce11fc59-8e5d-492f-8a91-4e8af6c1796c",
   "metadata": {},
   "outputs": [],
   "source": [
    "#Looping List Comprehension\n",
    "data = {1,2,3,4,5}\n",
    "pangkat = [x**2 for x in data]\n",
    "print(pangkat)"
   ]
  },
  {
   "cell_type": "code",
   "execution_count": 27,
   "id": "36b20e82-52ef-4a67-b572-c8ea5deb0f6a",
   "metadata": {},
   "outputs": [
    {
     "name": "stdout",
     "output_type": "stream",
     "text": [
      "Nilai j : 5\n",
      "Nilai j : 6\n",
      "Nilai j : 7\n",
      "Nilai j : 8\n",
      "Nilai j : 9\n"
     ]
    }
   ],
   "source": [
    "#Range\n",
    "for j in range(5,10):\n",
    "    print(f\"Nilai j : {j}\")"
   ]
  },
  {
   "cell_type": "code",
   "execution_count": 31,
   "id": "b69994f3-c16a-4040-8f00-e98ecb1322fb",
   "metadata": {},
   "outputs": [
    {
     "name": "stdin",
     "output_type": "stream",
     "text": [
      "Isikan Bilangan: 80\n"
     ]
    },
    {
     "name": "stdout",
     "output_type": "stream",
     "text": [
      "80 adalah Bukan Prima\n"
     ]
    }
   ],
   "source": [
    "#Cek bilangan prima atau bukan prima\n",
    "number = int(input(\"Isikan Bilangan:\"))\n",
    "faktor = 0\n",
    "for i in range (1,number+1):\n",
    "    if number % i == 0:\n",
    "       faktor +=1\n",
    "if faktor==2:\n",
    "    print(f\"{number} adalah Bilangan Prima\")\n",
    "else:\n",
    "    print(f\"{number} adalah Bukan Prima\")"
   ]
  },
  {
   "cell_type": "code",
   "execution_count": 33,
   "id": "d6831eec-f96d-4bd0-8934-5e889aaf9a9f",
   "metadata": {},
   "outputs": [
    {
     "name": "stdin",
     "output_type": "stream",
     "text": [
      "Isikan Bilangan: 10\n"
     ]
    },
    {
     "name": "stdout",
     "output_type": "stream",
     "text": [
      "10! = 3628800\n"
     ]
    }
   ],
   "source": [
    "#Faktorial\n",
    "# 3! = 3 * 2 * 1 = 6\n",
    "# 4! = 4 * 3 * 2 * 1 = 24\n",
    "total = 1\n",
    "number = int(input(\"Isikan Bilangan:\"))\n",
    "for i in range(1,number+1):\n",
    "    total *= i\n",
    "print(f\"{number}! = {total}\")\n"
   ]
  },
  {
   "cell_type": "code",
   "execution_count": 37,
   "id": "a838aa26-4280-44f3-b07e-c318a05c91c5",
   "metadata": {},
   "outputs": [
    {
     "name": "stdin",
     "output_type": "stream",
     "text": [
      "Isikan Bilangan: 10\n"
     ]
    },
    {
     "name": "stdout",
     "output_type": "stream",
     "text": [
      "1 -2 3 -4 5 -6 7 -8 9 -10 "
     ]
    }
   ],
   "source": [
    "# 1 -2 3 -4 5 -6 7 -8 9 -10\n",
    "number = int(input(\"Isikan Bilangan:\"))\n",
    "sign = 1\n",
    "for i in range(1,number+1):\n",
    "    result = sign * i \n",
    "    print(f\"{result} \", end='')\n",
    "    sign *= -1"
   ]
  },
  {
   "cell_type": "code",
   "execution_count": 41,
   "id": "e26b593e-c0be-4d5f-b23b-d10dc03d3d3d",
   "metadata": {},
   "outputs": [
    {
     "name": "stdout",
     "output_type": "stream",
     "text": [
      "Jumlah Penonton Laki-laki:4\n",
      "Jumlah Penonton perempuan:3\n"
     ]
    }
   ],
   "source": [
    "kursiBioskop = [\"L\",\"P\",\"P\",\"L\",\"L\",\"P\",\"L\"]\n",
    "\n",
    "#Hitung jumlah penonton Laki-laki\n",
    "#Hitung Jumlah penonton Perempuan \n",
    "\n",
    "totalLaki = 0\n",
    "for jenis in kursiBioskop:\n",
    "    if jenis==\"L\":\n",
    "        totalLaki +=1\n",
    "print(f\"Jumlah Penonton Laki-laki:{totalLaki}\")\n",
    "print(f\"Jumlah Penonton perempuan:{len(kursiBioskop)-totalLaki}\")\n"
   ]
  },
  {
   "cell_type": "code",
   "execution_count": 45,
   "id": "c2f318c3-6f1e-442b-aac9-c006f91a6187",
   "metadata": {},
   "outputs": [
    {
     "name": "stdout",
     "output_type": "stream",
     "text": [
      "Jumlah Couple:4\n"
     ]
    }
   ],
   "source": [
    "kursi = [\"L\",\"P\",\"P\",\"L\",\"L\",\"P\",\"L\"]\n",
    "couple = 0\n",
    "for i in range(len(kursi)-1):\n",
    "    if kursi[i] != kursi [i+1]:\n",
    "        couple+=1\n",
    "print(f\"Jumlah Couple:{couple}\")"
   ]
  },
  {
   "cell_type": "code",
   "execution_count": 47,
   "id": "48ddd37d-c2f8-4107-bad1-070cf2dd50b1",
   "metadata": {},
   "outputs": [
    {
     "name": "stdout",
     "output_type": "stream",
     "text": [
      "(key) : Suki\n",
      "(key) : Wawa\n"
     ]
    }
   ],
   "source": [
    "data = {\n",
    "    \"fname\" : \"Suki\",\n",
    "    \"1name\" : \"Wawa\"\n",
    "}\n",
    "for key,value in data.items():\n",
    "    print(f\"(key) : {value}\")"
   ]
  },
  {
   "cell_type": "code",
   "execution_count": null,
   "id": "b89af696-f6b0-4e84-9dc4-56f60ad49d48",
   "metadata": {},
   "outputs": [],
   "source": []
  }
 ],
 "metadata": {
  "kernelspec": {
   "display_name": "Python 3 (ipykernel)",
   "language": "python",
   "name": "python3"
  },
  "language_info": {
   "codemirror_mode": {
    "name": "ipython",
    "version": 3
   },
   "file_extension": ".py",
   "mimetype": "text/x-python",
   "name": "python",
   "nbconvert_exporter": "python",
   "pygments_lexer": "ipython3",
   "version": "3.12.7"
  }
 },
 "nbformat": 4,
 "nbformat_minor": 5
}
