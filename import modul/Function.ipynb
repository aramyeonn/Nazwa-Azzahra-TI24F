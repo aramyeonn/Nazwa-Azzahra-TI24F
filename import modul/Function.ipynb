{
 "cells": [
  {
   "cell_type": "code",
   "execution_count": null,
   "id": "cbd9db44-d8d5-4e73-b02d-4039703a7fd5",
   "metadata": {},
   "outputs": [],
   "source": [
    "#Fungsi tanpa parameter\n",
    "def greeting():\n",
    "    print(\"Hallo, jijeh?\")\n",
    "    print(\"Gimana Hari ini happy ga?\")\n",
    "greeting()\n",
    "greeting()"
   ]
  },
  {
   "cell_type": "code",
   "execution_count": null,
   "id": "cc535d61-1212-4026-8df7-d9a9c0974d21",
   "metadata": {},
   "outputs": [],
   "source": [
    "import datetime\n",
    "def showDate():\n",
    "    today = datetime.date.today()\n",
    "    print(f\"sekarang tanggal:{today}\")\n",
    "\n",
    "def isWeekend():\n",
    "    today = datetime.date.today().weekday()\n",
    "    if today < 5:\n",
    "        print(\"Sekarang Weekday\")\n",
    "    else:\n",
    "        print(\"Sekarang Weekend\")"
   ]
  },
  {
   "cell_type": "code",
   "execution_count": null,
   "id": "06710fee-558e-494b-8f13-16f86f5ed61e",
   "metadata": {},
   "outputs": [],
   "source": [
    "#Fungsi dengan parameter, tidak ada return value\n",
    "def getFullName(first,middle,last):\n",
    "    print(f\"{first} {middle} {last}\")\n",
    "\n",
    "#Fungsi dengan parameter dan return value\n",
    "def getName(first,middle,last):\n",
    "    return f\"{first} {middle} {last}\"\n",
    "    \n",
    "getFullName(\"Andi\",\"Fahmi\",\"Robi\")\n",
    "myname = getName(\"Andi\",\"Fahmi\",\"Robi\")\n",
    "title = \"S.kom\"\n",
    "print(f\"{myname}, {title}\")\n",
    "\n"
   ]
  },
  {
   "cell_type": "code",
   "execution_count": null,
   "id": "2f9ce2ed-2813-442d-bbdf-81723346c75c",
   "metadata": {},
   "outputs": [],
   "source": [
    "#Fungsi aritmatika\n",
    "def add(num1, num2):\n",
    "    return num1 + num2\n",
    "\n",
    "def multiply(num1, num2):\n",
    "    return num1 * num2\n",
    "\n",
    "r1 = add(10,3) #13\n",
    "r2 = multiply(3,5) #15\n",
    "r3 = add(r1,r2) #28\n",
    "\n",
    "print(f\"Hasil penjumlahan 10 dan 3:{r1}\")\n",
    "print(f\"Hasil perkalian 3 dan 5:{r2}\")\n",
    "print(f\"Hasil penjumlahan {r1} dan {r2}:{r3}\")"
   ]
  },
  {
   "cell_type": "code",
   "execution_count": null,
   "id": "4b90e277-acf8-4c03-8f06-7382556e925a",
   "metadata": {},
   "outputs": [],
   "source": [
    "#Fungsi dengan return lebih dari 1\n",
    "def aritmatic(num1,num2):\n",
    "    add = num1 + num2\n",
    "    multiply = num1 * num2\n",
    "    return add,multiply\n",
    "\n",
    "tambah, kali = aritmatic(7,10)\n",
    "print(f\"Hasil penjumlahan:{tambah}\")\n",
    "print(f\"Hasil perkalian:{kali}\")"
   ]
  },
  {
   "cell_type": "code",
   "execution_count": 1,
   "id": "235d308f-0ecf-4557-94c4-fcb9a695f415",
   "metadata": {},
   "outputs": [
    {
     "name": "stdout",
     "output_type": "stream",
     "text": [
      "Registration is successfull\n",
      "Username:aram\n",
      "Password:123456\n",
      "Email:aramyeon@gmail.com\n",
      "Status:Belum aktif\n",
      "\n",
      "Registration is successfull\n",
      "Username:aram\n",
      "Password:123456\n",
      "Email:aramyeon@gmail.com\n",
      "Status:Aktif\n",
      "\n",
      "Registration is successfull\n",
      "Username:aram\n",
      "Password:123456\n",
      "Email:aramyeon@gmail.com\n",
      "Status:Aktif\n",
      "\n",
      "Registration is successfull\n",
      "Username:aram\n",
      "Password:123456\n",
      "Email:aramyeon@gmail.com\n",
      "Status:Aktif\n",
      "\n"
     ]
    }
   ],
   "source": [
    "#Fungsi dengan nilai default\n",
    "def userRegistration(email,username,password,status=\"Belum aktif\"):\n",
    "    result = \"\"\n",
    "    if (len(username)> 3):\n",
    "        if(len(password)>5):\n",
    "            result += f\"Registration is successfull\\n\"\n",
    "            result += f\"Username:{username}\\n\"\n",
    "            result += f\"Password:{password}\\n\"\n",
    "            result += f\"Email:{email}\\n\"\n",
    "            result += f\"Status:{status}\\n\"\n",
    "            return result\n",
    "        else:\n",
    "            return \"registration failed (Username must be more than 5)\"\n",
    "    else:\n",
    "        return \"registration failed (Username must be more than 3)\"\n",
    "\n",
    "print(userRegistration(\"aramyeon@gmail.com\",\"aram\",\"123456\"))\n",
    "print(userRegistration(\"aramyeon@gmail.com\",\"aram\",\"123456\",\"Aktif\"))\n",
    "print(userRegistration(\"aramyeon@gmail.com\",\"aram\",\"123456\",\"Aktif\"))\n",
    "print(userRegistration(\"aramyeon@gmail.com\",\"aram\",\"123456\",\"Aktif\"))"
   ]
  },
  {
   "cell_type": "code",
   "execution_count": 2,
   "id": "d7da414c-8772-46df-af61-08922b2d02e2",
   "metadata": {},
   "outputs": [
    {
     "name": "stdout",
     "output_type": "stream",
     "text": [
      "registration failed (Username must be more than 3)\n",
      "registration failed (Username must be more than 5)\n",
      "\n"
     ]
    }
   ],
   "source": [
    "#Fungsi dengan nilai default\n",
    "def checkPassword(password):\n",
    "    result = \"\"\n",
    "    if (len(password)<=5):\n",
    "        result = \"registration failed (Username must be more than 5)\\n\"\n",
    "    return result\n",
    "\n",
    "def checkUsername(username):\n",
    "    result=\"\"\n",
    "    if (len(username)<=4):\n",
    "        result = \"registration failed (Username must be more than 3)\\n\"\n",
    "    return result\n",
    "            \n",
    "def userRegistration(email,username,password,status=\"Belum aktif\"):\n",
    "    user = checkUsername(username)\n",
    "    pwd = checkPassword(password)\n",
    "    result = \"\"\n",
    "    if(len(user) > 0):\n",
    "        result +=user\n",
    "        \n",
    "    if(len(pwd) > 0):\n",
    "        result +=pwd\n",
    "\n",
    "    if(len(result)==0):\n",
    "        result += f\"Registration is successfull\\n\"\n",
    "        result += f\"Username:{username}\\n\"\n",
    "        result += f\"Password:{password}\\n\"\n",
    "        result += f\"Email:{email}\\n\"\n",
    "        result += f\"Status:{status}\\n\"\n",
    "    return result\n",
    "\n",
    "print(userRegistration(\"aramyeon@gmail.com\",\"aram\",\"1234\",\"Aktif\"))"
   ]
  },
  {
   "cell_type": "code",
   "execution_count": 3,
   "id": "5c8348d3-44df-4cc9-9b89-e4b836fda491",
   "metadata": {},
   "outputs": [
    {
     "name": "stdin",
     "output_type": "stream",
     "text": [
      "Angka 1:  1\n",
      "Angka 2:  3\n"
     ]
    },
    {
     "name": "stdout",
     "output_type": "stream",
     "text": [
      "4\n",
      "3\n",
      "1\n"
     ]
    }
   ],
   "source": [
    "import Aritmatika.math as math\n",
    "angka1 = int(input(\"Angka 1: \"))\n",
    "angka2 = int(input(\"Angka 2: \"))\n",
    "\n",
    "r1 = math.add(angka1, angka2)\n",
    "r2 = math.multiply(angka1, angka2)\n",
    "r3 = math.pow(angka1, angka2)\n",
    "\n",
    "print(r1)\n",
    "print(r2)\n",
    "print(r3)"
   ]
  },
  {
   "cell_type": "code",
   "execution_count": null,
   "id": "ec49ee14-8c40-4002-98a7-c86ffbe65590",
   "metadata": {},
   "outputs": [],
   "source": []
  }
 ],
 "metadata": {
  "kernelspec": {
   "display_name": "Python 3 (ipykernel)",
   "language": "python",
   "name": "python3"
  },
  "language_info": {
   "codemirror_mode": {
    "name": "ipython",
    "version": 3
   },
   "file_extension": ".py",
   "mimetype": "text/x-python",
   "name": "python",
   "nbconvert_exporter": "python",
   "pygments_lexer": "ipython3",
   "version": "3.12.7"
  }
 },
 "nbformat": 4,
 "nbformat_minor": 5
}
