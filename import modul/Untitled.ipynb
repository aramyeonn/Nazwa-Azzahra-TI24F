{
 "cells": [
  {
   "cell_type": "code",
   "execution_count": 2,
   "id": "6e3dbf1a-f4e3-4c70-9e74-89a26c7a69ea",
   "metadata": {},
   "outputs": [
    {
     "name": "stdout",
     "output_type": "stream",
     "text": [
      "\n",
      "Menu Utama\n",
      "1. Aritmatika\n",
      "2. Konversi\n",
      "3. Ubah Bilangan\n",
      "4. Keluar\n"
     ]
    },
    {
     "name": "stdin",
     "output_type": "stream",
     "text": [
      "Pilih menu:  3\n"
     ]
    },
    {
     "ename": "UnboundLocalError",
     "evalue": "cannot access local variable 'sub' where it is not associated with a value",
     "output_type": "error",
     "traceback": [
      "\u001b[1;31m---------------------------------------------------------------------------\u001b[0m",
      "\u001b[1;31mUnboundLocalError\u001b[0m                         Traceback (most recent call last)",
      "Cell \u001b[1;32mIn[2], line 44\u001b[0m\n\u001b[0;32m     41\u001b[0m         \u001b[38;5;28;01melse\u001b[39;00m:\n\u001b[0;32m     42\u001b[0m             \u001b[38;5;28mprint\u001b[39m(\u001b[38;5;124m\"\u001b[39m\u001b[38;5;124mPilihan salah!\u001b[39m\u001b[38;5;124m\"\u001b[39m)\n\u001b[1;32m---> 44\u001b[0m menu()\n",
      "Cell \u001b[1;32mIn[2], line 25\u001b[0m, in \u001b[0;36mmenu\u001b[1;34m()\u001b[0m\n\u001b[0;32m     23\u001b[0m     \u001b[38;5;28;01mif\u001b[39;00m sub \u001b[38;5;241m==\u001b[39m \u001b[38;5;124m'\u001b[39m\u001b[38;5;124m1\u001b[39m\u001b[38;5;124m'\u001b[39m:\n\u001b[0;32m     24\u001b[0m         \u001b[38;5;28mprint\u001b[39m(\u001b[38;5;124m\"\u001b[39m\u001b[38;5;124mHasil:\u001b[39m\u001b[38;5;124m\"\u001b[39m, cm_to_m(val))\n\u001b[1;32m---> 25\u001b[0m \u001b[38;5;28;01melif\u001b[39;00m sub \u001b[38;5;241m==\u001b[39m \u001b[38;5;124m'\u001b[39m\u001b[38;5;124m2\u001b[39m\u001b[38;5;124m'\u001b[39m:\n\u001b[0;32m     26\u001b[0m         \u001b[38;5;28mprint\u001b[39m(\u001b[38;5;124m\"\u001b[39m\u001b[38;5;124mHasil:\u001b[39m\u001b[38;5;124m\"\u001b[39m, m_to_cm(val))\n\u001b[0;32m     27\u001b[0m \u001b[38;5;28;01melif\u001b[39;00m pilih \u001b[38;5;241m==\u001b[39m \u001b[38;5;124m'\u001b[39m\u001b[38;5;124m3\u001b[39m\u001b[38;5;124m'\u001b[39m:\n",
      "\u001b[1;31mUnboundLocalError\u001b[0m: cannot access local variable 'sub' where it is not associated with a value"
     ]
    }
   ],
   "source": [
    "def menu():\n",
    "    while True:\n",
    "        print(\"\\nMenu Utama\")\n",
    "        print(\"1. Aritmatika\\n2. Konversi\\n3. Ubah Bilangan\\n4. Keluar\")\n",
    "        pilih = input(\"Pilih menu: \")\n",
    "\n",
    "        if pilih == '1':\n",
    "            print(\"\\nAritmatika:\\n1. Penjumlahan\\n2. Perpangkatan\\n3. Perkalian\")\n",
    "            sub = input(\"Pilih: \")\n",
    "            a = float(input(\"Angka 1: \"))\n",
    "            b = float(input(\"Angka 2: \"))\n",
    "            if sub == '1':\n",
    "                print(\"Hasil:\", penjumlahan(a, b))\n",
    "            elif sub == '2':\n",
    "                print(\"Hasil:\", perpangkatan(a, b))\n",
    "            elif sub == '3':\n",
    "                print(\"Hasil:\", perkalian(a, b))\n",
    "\n",
    "        elif pilih == '2':\n",
    "            print(\"\\nKonversi:\\n1. CM ke M\\n2. M ke CM\")\n",
    "            sub = input(\"Pilih: \")\n",
    "            val = float(input(\"Nilai: \"))\n",
    "            if sub == '1':\n",
    "                print(\"Hasil:\", cm_to_m(val))\n",
    "        elif sub == '2':\n",
    "                print(\"Hasil:\", m_to_cm(val))\n",
    "        elif pilih == '3':\n",
    "            print(\"\\nUbah Bilangan:\\n1. Desimal ke Biner\\n2. Oktal\\n3. Hexa\")\n",
    "            sub = input(\"Pilih: \")\n",
    "            val = int(input(\"Angka desimal: \"))\n",
    "            if sub == '1':\n",
    "                print(\"Biner:\", desimal_ke_biner(val))\n",
    "            elif sub == '2':\n",
    "                print(\"Oktal:\", desimal_ke_oktal(val))\n",
    "            elif sub == '3':\n",
    "                print(\"Hexa:\", desimal_ke_heksadesimal(val))\n",
    "\n",
    "        elif pilih == '4':\n",
    "            print(\"Terima kasih!\")\n",
    "            break\n",
    "        else:\n",
    "            print(\"Pilihan salah!\")\n",
    "\n",
    "menu()"
   ]
  },
  {
   "cell_type": "code",
   "execution_count": null,
   "id": "683cd08c-b11b-4b55-9d4a-84028f21a49f",
   "metadata": {},
   "outputs": [],
   "source": []
  }
 ],
 "metadata": {
  "kernelspec": {
   "display_name": "Python 3 (ipykernel)",
   "language": "python",
   "name": "python3"
  },
  "language_info": {
   "codemirror_mode": {
    "name": "ipython",
    "version": 3
   },
   "file_extension": ".py",
   "mimetype": "text/x-python",
   "name": "python",
   "nbconvert_exporter": "python",
   "pygments_lexer": "ipython3",
   "version": "3.12.7"
  }
 },
 "nbformat": 4,
 "nbformat_minor": 5
}
