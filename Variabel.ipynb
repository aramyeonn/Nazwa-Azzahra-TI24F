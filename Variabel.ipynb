{
 "cells": [
  {
   "cell_type": "code",
   "execution_count": 19,
   "id": "9b11bcfe",
   "metadata": {},
   "outputs": [
    {
     "name": "stdout",
     "output_type": "stream",
     "text": [
      "Nama : Nazwa\n",
      "Umur :: 20\n",
      "Alamat : JL.Bhayangkara\n",
      "Provinsi : 7413412\n",
      "Nilai Pemograman : 90.0\n",
      "Status Menikah : False\n"
     ]
    }
   ],
   "source": [
    "name = \"Nazwa\"\n",
    "age = 20\n",
    "address,province = \"JL.Bhayangkara\",\"7413412\"\n",
    "pythonScore = 90.0\n",
    "isMarried = False\n",
    "\n",
    "print(\"Nama :\",name)\n",
    "print(\"Umur ::\",age)\n",
    "print(\"Alamat :\", address)\n",
    "print(\"Provinsi :\",province)\n",
    "print(\"Nilai Pemograman :\",pythonScore)\n",
    "print(\"Status Menikah :\",isMarried)\n",
    "\n"
   ]
  },
  {
   "cell_type": "code",
   "execution_count": 14,
   "id": "64586984",
   "metadata": {},
   "outputs": [
    {
     "name": "stdout",
     "output_type": "stream",
     "text": [
      "Tipe Data (nama) : <class 'str'>\n",
      "Tipe Data (age) : <class 'int'>\n",
      "Tipe Data (address) : <class 'str'>\n",
      "Tipe Data (province) : <class 'str'>\n",
      "Tipe Data (scorePython) ; <class 'float'>\n",
      "Tipe Data (isMarried) : <class 'bool'>\n"
     ]
    }
   ],
   "source": [
    "print(\"Tipe Data (nama) :\",type(name))\n",
    "print(\"Tipe Data (age) :\",type(age))\n",
    "print(\"Tipe Data (address) :\",type(address))\n",
    "print(\"Tipe Data (province) :\",type(province))\n",
    "print(\"Tipe Data (scorePython) ;\",type(pythonScore))\n",
    "print(\"Tipe Data (isMarried) :\",type(isMarried))"
   ]
  },
  {
   "cell_type": "code",
   "execution_count": 27,
   "id": "ebafd3b6",
   "metadata": {},
   "outputs": [
    {
     "name": "stdout",
     "output_type": "stream",
     "text": [
      "7413414 7413412.0 True\n",
      "20 20.0 True\n",
      "90.0 90 True\n",
      "False 0 False\n"
     ]
    }
   ],
   "source": [
    "#Casting atau Konversi Tipe Data\n",
    "strToInt = int(province)\n",
    "strToFloat = float(province)\n",
    "strToBool = bool(province)\n",
    "print(strToInt+2,strToFloat,strToBool)\n",
    "\n",
    "intToStr = str(age)\n",
    "intToFloat = float(age)\n",
    "intToBool = bool(age)\n",
    "print(intToStr,intToFloat,intToBool)\n",
    "\n",
    "floatTostr = str(pythonScore)\n",
    "floatToint = int(pythonScore)\n",
    "floatTobool = bool(pythonScore)\n",
    "print(floatTostr,floatToint,floatTobool)\n",
    "\n",
    "boolTostr = str(isMarried)\n",
    "boolToint = int(isMarried)\n",
    "boolTobool = bool(isMarried)\n",
    "print(boolTostr,boolToint,boolTobool)"
   ]
  },
  {
   "cell_type": "code",
   "execution_count": 36,
   "id": "f8e15afe",
   "metadata": {},
   "outputs": [
    {
     "name": "stdout",
     "output_type": "stream",
     "text": [
      "7413414 7413412.0 True\n"
     ]
    }
   ],
   "source": [
    "#Casting atau Konversi Tipe Data\n",
    "strToInt = int(province)\n",
    "strToFloat = float(province)\n",
    "strToBool = bool(province)\n",
    "print(strToInt+2,strToFloat,strToBool)"
   ]
  },
  {
   "cell_type": "code",
   "execution_count": 32,
   "id": "70a0ba1f",
   "metadata": {},
   "outputs": [
    {
     "name": "stdout",
     "output_type": "stream",
     "text": [
      "B\n",
      "g\n"
     ]
    }
   ],
   "source": [
    "#String adalah kumpulan dari beberapa karakter dan immutable\n",
    "city = \"Bandung\"\n",
    "panjang = len(city)\n",
    "print(city[0])\n",
    "print(city[panjang-1])"
   ]
  },
  {
   "cell_type": "code",
   "execution_count": 35,
   "id": "c93faf8e",
   "metadata": {
    "scrolled": true
   },
   "outputs": [
    {
     "name": "stdout",
     "output_type": "stream",
     "text": [
      "Nilai desimal: 500\n",
      "Nilai biner: 15\n",
      "Nilai octal: 255\n",
      "Nilai hexa: 255\n",
      "Biner dari 500 : 0b111110100\n",
      "octal dari 500 : 0o764\n",
      "hexa dari 500 : 0x1f4\n"
     ]
    }
   ],
   "source": [
    "desimal = 500\n",
    "biner = 0b1111\n",
    "octal = 0o377\n",
    "hexa = 0xff\n",
    "\n",
    "print(\"Nilai desimal:\",desimal)\n",
    "print(\"Nilai biner:\",biner)\n",
    "print(\"Nilai octal:\",octal)\n",
    "print(\"Nilai hexa:\",hexa)\n",
    "\n",
    "print(\"Biner dari\",desimal,\":\",bin(desimal))\n",
    "print(\"octal dari\",desimal,\":\",oct(desimal))\n",
    "print(\"hexa dari\",desimal,\":\",hex(desimal))"
   ]
  },
  {
   "cell_type": "code",
   "execution_count": 64,
   "id": "3d0e2546",
   "metadata": {},
   "outputs": [
    {
     "name": "stdout",
     "output_type": "stream",
     "text": [
      "['Sukabumi', 'Bali', 'Bandung', 'Malang']\n",
      "Sukabumi\n",
      "Malang\n",
      "['Sukabumi', 'jakarta', 'Bandung', 'Malang']\n",
      "('Dance', 'Sholat', 'MenontonBts')\n",
      "Dance\n",
      "{'name': 'Ara', 'age': 20, 'address': {'Street': 'JL.Bhayangkara', 'number': 34, 'province': 'kab.Sukabumi'}}\n",
      "Ara\n",
      "kab.Sukabumi\n",
      "{'name': 'Ara', 'age': 20, 'address': {'Street': 'JL.Bhayangkara', 'number': 34, 'province': 'kab.Sukabumi'}}\n"
     ]
    }
   ],
   "source": [
    "#Tipe Data Collection \n",
    "cities = [\"Sukabumi\",\"Bali\",\"Bandung\",\"Malang\"] #List\n",
    "print(cities)\n",
    "print(cities[0])\n",
    "print(cities[len(cities)-1])\n",
    "cities[1] = \"jakarta\"\n",
    "print(cities)\n",
    "          \n",
    "hobbies = (\"Dance\",\"Sholat\",\"MenontonBts\")\n",
    "print(hobbies)\n",
    "print(hobbies[0])\n",
    "#hobbies[0] = \"Waching Netflix\" error program\n",
    "\n",
    "studentData = {\n",
    "    \"name\" : \"Ara\",\n",
    "    \"age\" : 20,\n",
    "    \"address\" : {\n",
    "         \"Street\" : \"JL.Bhayangkara\",\n",
    "         \"number\" : 34,\n",
    "         \"province\" : \"kab.Sukabumi\"\n",
    "    }  \n",
    "}\n",
    "\n",
    "print(studentData)\n",
    "print(studentData[\"name\"])\n",
    "print(studentData[\"address\"] [\"province\"])\n",
    "\n",
    "print(studentList)\n",
    "\n",
    "myList = [\n",
    "    \n",
    " {\n",
    "    \"name\" : \"taehyung\",\n",
    "    \"age\" : 25,\n",
    "    \"address\" : {\n",
    "         \"Street\" : \"JL.Annyeoung\",\n",
    "         \"number\" : 30,\n",
    "         \"province\" : \"kab.yeon\"\n",
    "    }  \n",
    "}\n",
    "]"
   ]
  }
 ],
 "metadata": {
  "kernelspec": {
   "display_name": "Python 3 (ipykernel)",
   "language": "python",
   "name": "python3"
  },
  "language_info": {
   "codemirror_mode": {
    "name": "ipython",
    "version": 3
   },
   "file_extension": ".py",
   "mimetype": "text/x-python",
   "name": "python",
   "nbconvert_exporter": "python",
   "pygments_lexer": "ipython3",
   "version": "3.9.12"
  }
 },
 "nbformat": 4,
 "nbformat_minor": 5
}
